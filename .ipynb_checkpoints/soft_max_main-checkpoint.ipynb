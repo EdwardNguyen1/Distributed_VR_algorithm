{
 "cells": [
  {
   "cell_type": "code",
   "execution_count": 1,
   "metadata": {
    "collapsed": false
   },
   "outputs": [],
   "source": [
    "%load_ext autoreload\n",
    "%autoreload 2\n",
    "\n",
    "import numpy as np\n",
    "import matplotlib.pyplot as plt\n",
    "from sklearn.linear_model import LogisticRegression\n",
    "\n",
    "from VR_algorithm import VR_algorithm\n",
    "from cost_func import *\n",
    "from read_data import *\n",
    "\n",
    "import matplotlib.pyplot as plt\n",
    "%matplotlib inline"
   ]
  },
  {
   "cell_type": "code",
   "execution_count": 86,
   "metadata": {
    "collapsed": false
   },
   "outputs": [
    {
     "name": "stdout",
     "output_type": "stream",
     "text": [
      "Extracting /Users/kunyuan/Documents/Github/dist_avrg/Distributed_VR_algorithm/C:/Users/biche/OneDrive/Documents/Python Scripts/random_reshuffle/MNIST_data/train-images-idx3-ubyte.gz\n",
      "Extracting /Users/kunyuan/Documents/Github/dist_avrg/Distributed_VR_algorithm/C:/Users/biche/OneDrive/Documents/Python Scripts/random_reshuffle/MNIST_data/train-labels-idx1-ubyte.gz\n",
      "Extracting /Users/kunyuan/Documents/Github/dist_avrg/Distributed_VR_algorithm/C:/Users/biche/OneDrive/Documents/Python Scripts/random_reshuffle/MNIST_data/t10k-images-idx3-ubyte.gz\n",
      "Extracting /Users/kunyuan/Documents/Github/dist_avrg/Distributed_VR_algorithm/C:/Users/biche/OneDrive/Documents/Python Scripts/random_reshuffle/MNIST_data/t10k-labels-idx1-ubyte.gz\n",
      "Extracting /Users/kunyuan/Documents/Github/dist_avrg/Distributed_VR_algorithm/C:/Users/biche/OneDrive/Documents/Python Scripts/random_reshuffle/MNIST_data/train-images-idx3-ubyte.gz\n",
      "Extracting /Users/kunyuan/Documents/Github/dist_avrg/Distributed_VR_algorithm/C:/Users/biche/OneDrive/Documents/Python Scripts/random_reshuffle/MNIST_data/train-labels-idx1-ubyte.gz\n",
      "Extracting /Users/kunyuan/Documents/Github/dist_avrg/Distributed_VR_algorithm/C:/Users/biche/OneDrive/Documents/Python Scripts/random_reshuffle/MNIST_data/t10k-images-idx3-ubyte.gz\n",
      "Extracting /Users/kunyuan/Documents/Github/dist_avrg/Distributed_VR_algorithm/C:/Users/biche/OneDrive/Documents/Python Scripts/random_reshuffle/MNIST_data/t10k-labels-idx1-ubyte.gz\n"
     ]
    }
   ],
   "source": [
    "X, Y = read_mnist(datatype = 'multiclass', mask_label = [0, 1, 2, 3, 4, 5, 6, 7 ,8 ,9])"
   ]
  },
  {
   "cell_type": "code",
   "execution_count": 87,
   "metadata": {
    "collapsed": true
   },
   "outputs": [],
   "source": [
    "N = X.shape[0]\n",
    "D = X.shape[1]\n",
    "C = Y.shape[1]\n",
    "\n",
    "N_train_prctg, N_val_prctg = 0.4, 0.1\n",
    "N_train = int(N * N_train_prctg)\n",
    "N_val = int(N * N_val_prctg)\n",
    "\n",
    "X_train, Y_train = X[0:N_train, :], Y[0:N_train, :]\n",
    "X_val, Y_val = X[N_train: N_train+N_val, :], Y[N_train: N_train+N_val, :]\n",
    "X_test, Y_test = X[N_train+N_val:N+1, :], Y[N_train+N_val:N+1, :]\n",
    "\n",
    "y_train, y_val, y_test = np.argmax(Y_train, axis = 1), np.argmax(Y_val, axis = 1), np.argmax(Y_test, axis = 1)"
   ]
  },
  {
   "cell_type": "code",
   "execution_count": 73,
   "metadata": {
    "collapsed": false
   },
   "outputs": [
    {
     "name": "stdout",
     "output_type": "stream",
     "text": [
      "(3420, 10)\n"
     ]
    }
   ],
   "source": [
    "print Y_test.shape"
   ]
  },
  {
   "cell_type": "code",
   "execution_count": 7,
   "metadata": {
    "collapsed": false
   },
   "outputs": [
    {
     "name": "stdout",
     "output_type": "stream",
     "text": [
      "[[ 0.  1.  0.  0.  0.  0.  0.  0.  0.  0.]\n",
      " [ 0.  1.  0.  0.  0.  0.  0.  0.  0.  0.]\n",
      " [ 1.  0.  0.  0.  0.  0.  0.  0.  0.  0.]\n",
      " [ 1.  0.  0.  0.  0.  0.  0.  0.  0.  0.]\n",
      " [ 0.  1.  0.  0.  0.  0.  0.  0.  0.  0.]\n",
      " [ 0.  0.  1.  0.  0.  0.  0.  0.  0.  0.]\n",
      " [ 1.  0.  0.  0.  0.  0.  0.  0.  0.  0.]\n",
      " [ 0.  0.  1.  0.  0.  0.  0.  0.  0.  0.]\n",
      " [ 1.  0.  0.  0.  0.  0.  0.  0.  0.  0.]\n",
      " [ 0.  1.  0.  0.  0.  0.  0.  0.  0.  0.]]\n"
     ]
    }
   ],
   "source": [
    "print Y_train[0:10,:]"
   ]
  },
  {
   "cell_type": "markdown",
   "metadata": {},
   "source": [
    "# Train the model"
   ]
  },
  {
   "cell_type": "code",
   "execution_count": 88,
   "metadata": {
    "collapsed": false
   },
   "outputs": [],
   "source": [
    "N_epoch = 30\n",
    "rho = 1e-4\n",
    "w_star = np.random.rand(C*D, 1) * 0.1\n",
    "params= {'using_sgd': 1, 'epoch_per_FG': 2, 'minibatch': 1}"
   ]
  },
  {
   "cell_type": "code",
   "execution_count": 89,
   "metadata": {
    "collapsed": false
   },
   "outputs": [
    {
     "name": "stdout",
     "output_type": "stream",
     "text": [
      "epoch: 1\n",
      "epoch: 2\n",
      "epoch: 3\n",
      "epoch: 4\n",
      "epoch: 5\n",
      "epoch: 6\n",
      "epoch: 7\n",
      "epoch: 8\n",
      "epoch: 9\n",
      "epoch: 10\n",
      "epoch: 11\n",
      "epoch: 12\n",
      "epoch: 13\n",
      "epoch: 14\n",
      "epoch: 15\n",
      "epoch: 16\n",
      "epoch: 17\n",
      "epoch: 18\n",
      "epoch: 19\n",
      "epoch: 20\n",
      "epoch: 21\n",
      "epoch: 22\n",
      "epoch: 23\n",
      "epoch: 24\n",
      "epoch: 25\n",
      "epoch: 26\n",
      "epoch: 27\n",
      "epoch: 28\n",
      "epoch: 29\n",
      "epoch: 30\n"
     ]
    }
   ],
   "source": [
    "avrg = VR_algorithm(X_train, Y_train , w_star, soft_max, rho = rho)\n",
    "MSD, ER = avrg.train(N_epoch=N_epoch, mu=.5, method='AVRG', replace = False, **params)\n",
    "w_svrg = avrg.cost_model.w"
   ]
  },
  {
   "cell_type": "code",
   "execution_count": 90,
   "metadata": {
    "collapsed": false
   },
   "outputs": [
    {
     "name": "stdout",
     "output_type": "stream",
     "text": [
      "training accuracy: 0.866273\n",
      "validation accuracy: 0.848727\n"
     ]
    }
   ],
   "source": [
    "W_svrg = w_svrg.reshape(D, C, order = 'F')\n",
    "y_train_pred = np.argmax(X_train.dot(W_svrg), axis = 1)\n",
    "print ('training accuracy: %f') % (np.mean(y_train == y_train_pred) )\n",
    "y_val_pred = np.argmax(X_val.dot(W_svrg), axis = 1)\n",
    "print ('validation accuracy: %f') % (np.mean(y_val == y_val_pred) )"
   ]
  },
  {
   "cell_type": "code",
   "execution_count": 91,
   "metadata": {
    "collapsed": false
   },
   "outputs": [
    {
     "name": "stdout",
     "output_type": "stream",
     "text": [
      "test accuracy: 0.869491\n"
     ]
    }
   ],
   "source": [
    "y_test_pred = np.argmax(X_test.dot(W_svrg), axis = 1)\n",
    "print ('test accuracy: %f') % (np.mean(y_test == y_test_pred) )"
   ]
  },
  {
   "cell_type": "code",
   "execution_count": null,
   "metadata": {
    "collapsed": true
   },
   "outputs": [],
   "source": []
  }
 ],
 "metadata": {
  "kernelspec": {
   "display_name": "Python 2",
   "language": "python",
   "name": "python2"
  },
  "language_info": {
   "codemirror_mode": {
    "name": "ipython",
    "version": 2
   },
   "file_extension": ".py",
   "mimetype": "text/x-python",
   "name": "python",
   "nbconvert_exporter": "python",
   "pygments_lexer": "ipython2",
   "version": "2.7.11"
  }
 },
 "nbformat": 4,
 "nbformat_minor": 0
}
